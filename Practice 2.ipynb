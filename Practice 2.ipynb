{
 "cells": [
  {
   "cell_type": "markdown",
   "metadata": {},
   "source": [
    "1. The code will run an error as you cannot add two different types. X is a list and y is a string"
   ]
  },
  {
   "cell_type": "code",
   "execution_count": 5,
   "metadata": {},
   "outputs": [
    {
     "name": "stdout",
     "output_type": "stream",
     "text": [
      "<class 'list'> <class 'str'>\n",
      "3 8\n"
     ]
    }
   ],
   "source": [
    "x= [1,2,3]\n",
    "y= \"Bootcamp\"\n",
    "print(type(x), type(y))\n",
    "print (len(x), len(y))"
   ]
  },
  {
   "cell_type": "markdown",
   "metadata": {},
   "source": [
    "2. The function type() tells what type x and y are and the function len() tells how many elements they contain"
   ]
  },
  {
   "cell_type": "code",
   "execution_count": 11,
   "metadata": {},
   "outputs": [
    {
     "data": {
      "text/plain": [
       "bool"
      ]
     },
     "execution_count": 11,
     "metadata": {},
     "output_type": "execute_result"
    }
   ],
   "source": [
    "type(1<2)"
   ]
  },
  {
   "cell_type": "markdown",
   "metadata": {},
   "source": [
    "3. \n",
    "2 - integer (nondecibal number)\n",
    "'2'- string (in between quotation marks)\n",
    "2.0 - float (decibal number)\n",
    "\"2.0\"- string (in between quotation marks)\n",
    "2>1 - boolean (comparison - larger than)\n",
    "'Itemar' > Chase - boolean (comparison - larger than)\n",
    "[1,2] - list (brackets)\n",
    "(1,1) - tuple (parentheses)\n",
    "{1:'one', 2:'two'} - dictionary (use of {} brackets and matching a key to a value)\n"
   ]
  },
  {
   "cell_type": "markdown",
   "metadata": {},
   "source": [
    "4. true, true, false, true, true, true, false, true, true"
   ]
  },
  {
   "cell_type": "code",
   "execution_count": 12,
   "metadata": {},
   "outputs": [
    {
     "name": "stdout",
     "output_type": "stream",
     "text": [
      "False\n"
     ]
    }
   ],
   "source": [
    "print (2**3>3**2)"
   ]
  },
  {
   "cell_type": "markdown",
   "metadata": {},
   "source": [
    "5. The comment will not run because it is missing a collon after the is statement."
   ]
  },
  {
   "cell_type": "markdown",
   "metadata": {},
   "source": [
    "6. The code starts off in a true state, therefore it will run as if the condition were true. "
   ]
  },
  {
   "cell_type": "code",
   "execution_count": 15,
   "metadata": {},
   "outputs": [
    {
     "name": "stdout",
     "output_type": "stream",
     "text": [
      "on the one hand\n"
     ]
    }
   ],
   "source": [
    "if True:\n",
    "    print (\"on the one hand\")\n",
    "else: \n",
    "    print (\"on the other hand\")"
   ]
  },
  {
   "cell_type": "code",
   "execution_count": 16,
   "metadata": {},
   "outputs": [
    {
     "name": "stdout",
     "output_type": "stream",
     "text": [
      "on the other hand\n"
     ]
    }
   ],
   "source": [
    "if False:\n",
    "    print (\"on the one hand\")\n",
    "else: \n",
    "    print (\"on the other hand\")"
   ]
  },
  {
   "cell_type": "code",
   "execution_count": 17,
   "metadata": {},
   "outputs": [
    {
     "name": "stdout",
     "output_type": "stream",
     "text": [
      "on the other hand\n"
     ]
    }
   ],
   "source": [
    "if not True:\n",
    "    print (\"on the one hand\")\n",
    "else: \n",
    "    print (\"on the other hand\")"
   ]
  },
  {
   "cell_type": "markdown",
   "metadata": {},
   "source": [
    "7. The code runs \"Chase\" since the condition is true. "
   ]
  },
  {
   "cell_type": "markdown",
   "metadata": {},
   "source": [
    "8."
   ]
  },
  {
   "cell_type": "code",
   "execution_count": 18,
   "metadata": {},
   "outputs": [
    {
     "name": "stdout",
     "output_type": "stream",
     "text": [
      "x has more\n"
     ]
    }
   ],
   "source": [
    "x = [1,2,3,4]\n",
    "y = ['x','y','z']\n",
    "\n",
    "if len(x)>len(y):\n",
    "    print ('x has more')\n",
    "    \n",
    "else: \n",
    "    print ('y has at least as many')"
   ]
  },
  {
   "cell_type": "markdown",
   "metadata": {},
   "source": [
    "9. The slice function slices a given sequence represented by the indices specified by range(start,stop,step)."
   ]
  },
  {
   "cell_type": "code",
   "execution_count": 33,
   "metadata": {},
   "outputs": [
    {
     "name": "stdout",
     "output_type": "stream",
     "text": [
      "1\n",
      "5\n",
      "[1, 2, 3, 4]\n"
     ]
    }
   ],
   "source": [
    "#10.\n",
    "\n",
    "x = [1,2,3,4,5]\n",
    "print(x[0])\n",
    "print(x[-1])\n",
    "print(x[:-1])"
   ]
  },
  {
   "cell_type": "code",
   "execution_count": 43,
   "metadata": {},
   "outputs": [
    {
     "name": "stdout",
     "output_type": "stream",
     "text": [
      "This i\n",
      "is\n",
      "a\n",
      "sentence\n",
      "please\n",
      "slice\n",
      "it\n"
     ]
    }
   ],
   "source": [
    "#11.\n",
    "\n",
    "sentence = \"This is a sentence; please slice it.\"\n",
    "print(sentence[0:6])\n",
    "print(sentence[5:7])\n",
    "print(sentence[8])\n",
    "print(sentence[10:18])\n",
    "print(sentence[20:26])\n",
    "print(sentence[27:32])\n",
    "print(sentence[33:35])"
   ]
  },
  {
   "cell_type": "code",
   "execution_count": 47,
   "metadata": {
    "scrolled": true
   },
   "outputs": [
    {
     "name": "stdout",
     "output_type": "stream",
     "text": [
      "[2, 'a', 'b', 'fast', 'slow', 3, 'Raghu', 'Liuren', 10]\n",
      "[1, 2, 'a', 'b', 'fast', 'slow', 3, 'Raghu', 'Liuren']\n",
      "[1, 2, 'a', 'Raghu', 'Liuren', 10]\n"
     ]
    }
   ],
   "source": [
    "#12.\n",
    "\n",
    "x = [1,2,\"a\",'b',\"fast\",'slow',3,'Raghu','Liuren',10]\n",
    "#a\n",
    "print(x[1:])\n",
    "print(x[:-1])\n",
    "\n",
    "#b\n",
    "print(x[:3] + x[7:])"
   ]
  },
  {
   "cell_type": "code",
   "execution_count": 51,
   "metadata": {},
   "outputs": [
    {
     "name": "stdout",
     "output_type": "stream",
     "text": [
      "1\n",
      "2\n",
      "a\n",
      "b\n",
      "fast\n",
      "slow\n",
      "3\n",
      "Raghu\n",
      "Liuren\n",
      "10\n"
     ]
    }
   ],
   "source": [
    "#13\n",
    "\n",
    "x = [1,2,\"a\",'b',\"fast\",'slow',3,'Raghu','Liuren',10]\n",
    "for i in x:\n",
    "    print(i)"
   ]
  },
  {
   "cell_type": "code",
   "execution_count": 50,
   "metadata": {
    "scrolled": true
   },
   "outputs": [
    {
     "name": "stdout",
     "output_type": "stream",
     "text": [
      "a\n",
      "b\n",
      "fast\n",
      "slow\n",
      "Raghu\n",
      "Liuren\n"
     ]
    }
   ],
   "source": [
    "#14\n",
    "\n",
    "x = [1,2,\"a\",'b',\"fast\",'slow',3,'Raghu','Liuren',10]\n",
    "for i in x:\n",
    "    if type(i)==str:\n",
    "        print(i)"
   ]
  },
  {
   "cell_type": "code",
   "execution_count": 54,
   "metadata": {},
   "outputs": [],
   "source": [
    "#15\n",
    "range?"
   ]
  },
  {
   "cell_type": "code",
   "execution_count": 55,
   "metadata": {},
   "outputs": [
    {
     "data": {
      "text/plain": [
       "[3, 5, 7, 9, 11]"
      ]
     },
     "execution_count": 55,
     "metadata": {},
     "output_type": "execute_result"
    }
   ],
   "source": [
    "list (range(3,12,2))"
   ]
  },
  {
   "cell_type": "markdown",
   "metadata": {},
   "source": [
    "range(3,12,2) gives you the sequence of every second number from 3 to 12.\n",
    "piecing out the code:\n",
    "first number = start = 3\n",
    "second number = finsih = 12\n",
    "third number = seperation amount = 2"
   ]
  },
  {
   "cell_type": "code",
   "execution_count": 57,
   "metadata": {},
   "outputs": [
    {
     "name": "stdout",
     "output_type": "stream",
     "text": [
      "135\n"
     ]
    }
   ],
   "source": [
    "#16\n",
    "\n",
    "x = list(range(0,30,3))\n",
    "y = 0\n",
    "for i in x:\n",
    "    y = y+i\n",
    "    \n",
    "print(y)"
   ]
  },
  {
   "cell_type": "code",
   "execution_count": 63,
   "metadata": {},
   "outputs": [
    {
     "name": "stdout",
     "output_type": "stream",
     "text": [
      "$ 141\n"
     ]
    }
   ],
   "source": [
    "#17\n",
    "\n",
    "def pocket_change(pennies,nickles,dimes,quarters):\n",
    "    x = pennies + 5 * nickles + 10 * dimes + 25 * quarters\n",
    "    print(\"$\",x)\n",
    "        \n",
    "pocket_change(1,2,3,4)"
   ]
  },
  {
   "cell_type": "code",
   "execution_count": 83,
   "metadata": {},
   "outputs": [
    {
     "name": "stdout",
     "output_type": "stream",
     "text": [
      "[1234, 4321, 9786]\n"
     ]
    }
   ],
   "source": [
    "#18\n",
    "\n",
    "def notsix(l):\n",
    "    xx = []\n",
    "    for i in l:\n",
    "        i = str(i)\n",
    "        if i[0] != '6':\n",
    "            i = int(i)\n",
    "            xx.append(i)\n",
    "    print(xx)\n",
    "        \n",
    "notsix([1234, 6783, 6, 4321, 9786])"
   ]
  },
  {
   "cell_type": "code",
   "execution_count": 89,
   "metadata": {},
   "outputs": [
    {
     "data": {
      "text/plain": [
       "[1234, 4321, 9786]"
      ]
     },
     "execution_count": 89,
     "metadata": {},
     "output_type": "execute_result"
    }
   ],
   "source": [
    "#19\n",
    "\n",
    "old_list = [1234, 6783, 6, 4321, 9786]\n",
    "new_list = [x for x in old_list if str(x)[0] !='6']\n",
    "\n",
    "new_list"
   ]
  },
  {
   "cell_type": "markdown",
   "metadata": {},
   "source": [
    "The code executes the same outcome as the notsix(l) function. It goes through every item in the list and appends it if the first character in the string of the item is not 6."
   ]
  },
  {
   "cell_type": "markdown",
   "metadata": {},
   "source": [
    "20.\n",
    "\n",
    "a. z is a dictionary that is storing 3 items, that is 3 key/value pairings. \n",
    "b. The integers (1,2,3) are the keys and the strings are the values (one, two, three).\n",
    "c. You would index the key [2] to the dictionary z --> z[2]\n",
    "d. z.keys outputs the z dictionary keys. z.values outputs of the z dictionary values.\n",
    "e. outputs a list of z's keys.\n",
    "f. outputs a list of z's values.\n",
    "d. outputs a list of z's keys.\n"
   ]
  },
  {
   "cell_type": "code",
   "execution_count": 106,
   "metadata": {},
   "outputs": [
    {
     "name": "stdout",
     "output_type": "stream",
     "text": [
      "dict_keys([1, 2, 3])\n",
      "dict_values(['one', 'two', 'three'])\n",
      "[1, 2, 3]\n",
      "['one', 'two', 'three']\n",
      "[1, 2, 3]\n"
     ]
    }
   ],
   "source": [
    "z = {1:'one', 2:'two', 3:'three'}\n",
    "z[2]\n",
    "z.keys?\n",
    "z.values?\n",
    "print(z.keys())\n",
    "print(z.values())\n",
    "print(list(z.keys()))\n",
    "print(list(z.values()))\n",
    "print(list(z))"
   ]
  },
  {
   "cell_type": "code",
   "execution_count": null,
   "metadata": {},
   "outputs": [],
   "source": []
  },
  {
   "cell_type": "code",
   "execution_count": null,
   "metadata": {},
   "outputs": [],
   "source": []
  }
 ],
 "metadata": {
  "kernelspec": {
   "display_name": "Python 3",
   "language": "python",
   "name": "python3"
  },
  "language_info": {
   "codemirror_mode": {
    "name": "ipython",
    "version": 3
   },
   "file_extension": ".py",
   "mimetype": "text/x-python",
   "name": "python",
   "nbconvert_exporter": "python",
   "pygments_lexer": "ipython3",
   "version": "3.6.5"
  }
 },
 "nbformat": 4,
 "nbformat_minor": 2
}
